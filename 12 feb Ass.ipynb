{
 "cells": [
  {
   "cell_type": "code",
   "execution_count": 1,
   "id": "02ce8064-114f-4e6c-9adb-aa0ab3af79de",
   "metadata": {},
   "outputs": [],
   "source": [
    "#Q1 what is an Exception in python ? write the difference between Exceptions and syntax errors. "
   ]
  },
  {
   "cell_type": "code",
   "execution_count": 2,
   "id": "9aa9a8de-0e2f-48a4-a4de-a4e21daffec8",
   "metadata": {},
   "outputs": [],
   "source": [
    "# In Python, an exception is an error that occurs during the execution of a program that disrupts the normal flow of instructions. When an exception occurs, \n",
    "# the interpreter raises an object that represents the error and looks for a nearby handler to deal with it. If no handler is found, the program terminates with an error message.\n",
    "\n",
    "# Exceptions in Python can occur due to a wide range of reasons, such as division by zero, accessing an undefined variable, or opening a non-existent file. \n",
    "# Python provides built-in exceptions, such as ValueError, TypeError, and ZeroDivisionError, that can be caught and handled in the program code.\n",
    "\n",
    "# On the other hand, syntax errors are errors that occur when the Python interpreter cannot parse the program code due to incorrect syntax. \n",
    "# Syntax errors are detected during the compilation stage and prevent the program from running. Examples of syntax errors include missing parentheses, misplaced operators, \n",
    "# or incorrect indentation.\n",
    "\n",
    "# The key difference between exceptions and syntax errors is that exceptions occur during the runtime of a program, while syntax errors occur during the compilation stage. \n",
    "# Exceptions can be caught and handled in the program code, while syntax errors must be fixed before the program can run."
   ]
  },
  {
   "cell_type": "code",
   "execution_count": 3,
   "id": "56efeb74-6373-4ea3-8265-b2b5ece19c30",
   "metadata": {},
   "outputs": [],
   "source": [
    "#Q2 what happens when an exception is not handled? Explain with an example."
   ]
  },
  {
   "cell_type": "code",
   "execution_count": 4,
   "id": "fd316e51-580f-45b9-aa1c-810f3be4739c",
   "metadata": {},
   "outputs": [],
   "source": [
    "# When an exception is not handled in Python, the program will terminate abruptly and display an error message to the user. This can lead to unexpected and undesirable behavior, \n",
    "# especially in larger programs where exceptions can occur at various points.\n",
    "\n",
    "# Here's an example to illustrate this:"
   ]
  },
  {
   "cell_type": "code",
   "execution_count": 5,
   "id": "bd592261-537e-4c22-8e4e-c0ca5f65d923",
   "metadata": {},
   "outputs": [
    {
     "name": "stdin",
     "output_type": "stream",
     "text": [
      "Enter a number:  1\n",
      "Enter another number:  0\n"
     ]
    },
    {
     "ename": "ZeroDivisionError",
     "evalue": "division by zero",
     "output_type": "error",
     "traceback": [
      "\u001b[0;31m---------------------------------------------------------------------------\u001b[0m",
      "\u001b[0;31mZeroDivisionError\u001b[0m                         Traceback (most recent call last)",
      "Cell \u001b[0;32mIn[5], line 3\u001b[0m\n\u001b[1;32m      1\u001b[0m num1 \u001b[38;5;241m=\u001b[39m \u001b[38;5;28mint\u001b[39m(\u001b[38;5;28minput\u001b[39m(\u001b[38;5;124m\"\u001b[39m\u001b[38;5;124mEnter a number: \u001b[39m\u001b[38;5;124m\"\u001b[39m))\n\u001b[1;32m      2\u001b[0m num2 \u001b[38;5;241m=\u001b[39m \u001b[38;5;28mint\u001b[39m(\u001b[38;5;28minput\u001b[39m(\u001b[38;5;124m\"\u001b[39m\u001b[38;5;124mEnter another number: \u001b[39m\u001b[38;5;124m\"\u001b[39m))\n\u001b[0;32m----> 3\u001b[0m result \u001b[38;5;241m=\u001b[39m \u001b[43mnum1\u001b[49m\u001b[43m \u001b[49m\u001b[38;5;241;43m/\u001b[39;49m\u001b[43m \u001b[49m\u001b[43mnum2\u001b[49m\n\u001b[1;32m      4\u001b[0m \u001b[38;5;28mprint\u001b[39m(\u001b[38;5;124m\"\u001b[39m\u001b[38;5;124mThe result is: \u001b[39m\u001b[38;5;124m\"\u001b[39m, result)\n",
      "\u001b[0;31mZeroDivisionError\u001b[0m: division by zero"
     ]
    }
   ],
   "source": [
    "num1 = int(input(\"Enter a number: \"))\n",
    "num2 = int(input(\"Enter another number: \"))\n",
    "result = num1 / num2\n",
    "print(\"The result is: \", result)\n"
   ]
  },
  {
   "cell_type": "code",
   "execution_count": 6,
   "id": "f9caca8b-ceb2-4093-b56e-9d6556d356bc",
   "metadata": {},
   "outputs": [
    {
     "name": "stdin",
     "output_type": "stream",
     "text": [
      "Enter a number:  10\n",
      "Enter another number:  0\n"
     ]
    },
    {
     "name": "stdout",
     "output_type": "stream",
     "text": [
      "Cannot divide by zero!\n"
     ]
    }
   ],
   "source": [
    "num1 = int(input(\"Enter a number: \"))\n",
    "num2 = int(input(\"Enter another number: \"))\n",
    "try:\n",
    "    result = num1 / num2\n",
    "    print(\"The result is: \", result)\n",
    "except ZeroDivisionError:\n",
    "    print(\"Cannot divide by zero!\")\n"
   ]
  },
  {
   "cell_type": "code",
   "execution_count": 7,
   "id": "999482ce-d49c-4220-bd04-0458e3c91513",
   "metadata": {},
   "outputs": [],
   "source": [
    "#Q3 which python statements are used to catch and handle exceptions? Explain with an example."
   ]
  },
  {
   "cell_type": "code",
   "execution_count": 8,
   "id": "061427e2-8be6-4b73-b086-c3eb9e85d917",
   "metadata": {},
   "outputs": [
    {
     "name": "stdin",
     "output_type": "stream",
     "text": [
      "Please enter a number:  0\n"
     ]
    },
    {
     "name": "stdout",
     "output_type": "stream",
     "text": [
      "You can't divide by zero!\n"
     ]
    }
   ],
   "source": [
    "# Python provides two statements, try and except, to handle exceptions.\n",
    "\n",
    "# The try statement is used to enclose the code that might generate an exception. If an exception is raised within the try block, \n",
    "# the execution of the try block is interrupted, and the code within the except block is executed.\n",
    "\n",
    "\n",
    "try:\n",
    "    x = int(input(\"Please enter a number: \"))\n",
    "    result = 100 / x\n",
    "    print(\"The result is:\", result)\n",
    "except ZeroDivisionError:\n",
    "    print(\"You can't divide by zero!\")\n",
    "except ValueError:\n",
    "    print(\"Please enter a valid integer.\")\n"
   ]
  },
  {
   "cell_type": "code",
   "execution_count": 9,
   "id": "739b4f11-1509-4eff-bc63-ab10f852ba4d",
   "metadata": {},
   "outputs": [
    {
     "name": "stdin",
     "output_type": "stream",
     "text": [
      "Please enter a number:  a\n"
     ]
    },
    {
     "name": "stdout",
     "output_type": "stream",
     "text": [
      "Please enter a valid integer.\n"
     ]
    }
   ],
   "source": [
    "try:\n",
    "    x = int(input(\"Please enter a number: \"))\n",
    "    result = 100 / x\n",
    "    print(\"The result is:\", result)\n",
    "except ZeroDivisionError:\n",
    "    print(\"You can't divide by zero!\")\n",
    "except ValueError:\n",
    "    print(\"Please enter a valid integer.\")\n"
   ]
  },
  {
   "cell_type": "code",
   "execution_count": 10,
   "id": "d0563e24-ded4-44e5-a9da-0f483bfefb45",
   "metadata": {},
   "outputs": [],
   "source": [
    "#By using the try and except statements, we can gracefully handle exceptions and prevent our program from crashing."
   ]
  },
  {
   "cell_type": "code",
   "execution_count": 11,
   "id": "9cf863b3-b77a-4a7c-9e02-148a32764c9b",
   "metadata": {},
   "outputs": [],
   "source": [
    "#Q4 Explain with an example \n",
    "# a. try and else\n",
    "# b. finally\n",
    "# c. raise"
   ]
  },
  {
   "cell_type": "code",
   "execution_count": 12,
   "id": "48cd3852-c77e-43c0-b832-0a138781e5af",
   "metadata": {},
   "outputs": [
    {
     "name": "stdin",
     "output_type": "stream",
     "text": [
      "Enter a number:  10\n"
     ]
    },
    {
     "name": "stdout",
     "output_type": "stream",
     "text": [
      "The square of 10 is 100\n"
     ]
    }
   ],
   "source": [
    "# a. try and else:\n",
    "\n",
    "# The try and else statements are used in Python to handle exceptions that may arise during the execution of code. \n",
    "# The try block contains the code that may raise an exception, and the else block contains the code that should be executed if the try block is executed without raising any exception.\n",
    "\n",
    "# Here's an example that demonstrates the use of try and else:\n",
    "\n",
    "try:\n",
    "    x = int(input(\"Enter a number: \"))\n",
    "except ValueError:\n",
    "    print(\"Invalid input. Please enter a valid number.\")\n",
    "else:\n",
    "    print(\"The square of {} is {}\".format(x, x*x))\n"
   ]
  },
  {
   "cell_type": "code",
   "execution_count": 13,
   "id": "f4278da4-15d7-4756-9f28-1bdb7a7a55ee",
   "metadata": {},
   "outputs": [],
   "source": [
    "# The finally block is used in Python to specify a block of code that should be executed regardless of whether an exception was raised or not. \n",
    "# It is often used for clean-up tasks such as closing files, releasing resources, or resetting variables.\n",
    "\n",
    "# Here's an example that demonstrates the use of finally:\n",
    "\n",
    "try:\n",
    "    file = open(\"example.txt\", \"r\")\n",
    "    # do some file processing here\n",
    "except FileNotFoundError:\n",
    "    print(\"The specified file could not be found.\")\n",
    "finally:\n",
    "    file.close()\n"
   ]
  },
  {
   "cell_type": "code",
   "execution_count": 14,
   "id": "a6e206d7-910a-4588-983b-b57dabcde902",
   "metadata": {},
   "outputs": [
    {
     "name": "stdout",
     "output_type": "stream",
     "text": [
      "Cannot divide by zero\n"
     ]
    }
   ],
   "source": [
    "# c. raise:\n",
    "\n",
    "# The raise statement is used in Python to explicitly raise an exception. \n",
    "# It is often used to signal an error condition or to propagate an exception from one part of the code to another.\n",
    "\n",
    "# Here's an example that demonstrates the use of raise:\n",
    "\n",
    "def divide(x, y):\n",
    "    if y == 0:\n",
    "        raise ValueError(\"Cannot divide by zero\")\n",
    "    else:\n",
    "        return x / y\n",
    "\n",
    "try:\n",
    "    result = divide(10, 0)\n",
    "except ValueError as e:\n",
    "    print(e)\n"
   ]
  },
  {
   "cell_type": "code",
   "execution_count": 18,
   "id": "f2babd27-6e71-4344-bcf5-0fb7dadf1e97",
   "metadata": {},
   "outputs": [],
   "source": [
    "#Q5 what is the custom Exception in python? why do we need custom Exceptions? Explain with an example."
   ]
  },
  {
   "cell_type": "code",
   "execution_count": 19,
   "id": "a3a0e23b-bcdb-4064-8c19-d68cc49c95a0",
   "metadata": {},
   "outputs": [],
   "source": [
    "# In Python, custom exceptions are user-defined exceptions that can be created to handle specific errors or exceptional conditions that are not covered by the built-in exceptions. \n",
    "# They allow developers to define their own error messages and handling mechanisms to make their code more organized and easier to maintain.\n",
    "\n",
    "# We need custom exceptions in Python because sometimes built-in exceptions may not provide enough information about the error or may not be specific enough to handle the error gracefully.\n",
    "\n",
    "# Custom exceptions allow us to define our own exceptions with specific error messages that make it easier to identify and resolve errors in our code.\n",
    "\n",
    "# Here is an example of creating and using a custom exception in Python:\n",
    "\n",
    "class InvalidInputError(Exception):\n",
    "    def __init__(self, message):\n",
    "        self.message = message\n",
    "\n",
    "#In the above code, we have defined a custom exception called InvalidInputError that extends the base Exception class. \n",
    "#The __init__ method is used to initialize the message attribute of the exception object.        \n",
    "        \n"
   ]
  },
  {
   "cell_type": "code",
   "execution_count": 20,
   "id": "bb493d28-48e0-4e97-93ee-41c7f983246f",
   "metadata": {},
   "outputs": [
    {
     "name": "stdout",
     "output_type": "stream",
     "text": [
      "Cannot divide by zero\n"
     ]
    }
   ],
   "source": [
    "def divide_numbers(num1, num2):\n",
    "    if num2 == 0:\n",
    "        raise InvalidInputError(\"Cannot divide by zero\")\n",
    "    return num1 / num2\n",
    "\n",
    "try:\n",
    "    result = divide_numbers(10, 0)\n",
    "except InvalidInputError as e:\n",
    "    print(e.message)\n"
   ]
  },
  {
   "cell_type": "code",
   "execution_count": 21,
   "id": "6eaafd5f-2433-4aca-8b81-b21cac13e73c",
   "metadata": {},
   "outputs": [],
   "source": [
    "#Q6 create a custom exception class. Use this class to handle an exception."
   ]
  },
  {
   "cell_type": "code",
   "execution_count": 22,
   "id": "0a07c3f1-4eb2-4da6-ba3e-ef505d11f5b7",
   "metadata": {},
   "outputs": [
    {
     "name": "stdout",
     "output_type": "stream",
     "text": [
      "Caught an exception: Value must be positive\n"
     ]
    }
   ],
   "source": [
    "# Define a custom exception class\n",
    "class MyException(Exception):\n",
    "    pass\n",
    "\n",
    "# Example function that raises an exception\n",
    "def my_function(value):\n",
    "    if value < 0:\n",
    "        raise MyException(\"Value must be positive\")\n",
    "\n",
    "# Example usage of the function\n",
    "try:\n",
    "    my_function(-1)\n",
    "except MyException as e:\n",
    "    print(\"Caught an exception:\", e)\n"
   ]
  },
  {
   "cell_type": "code",
   "execution_count": null,
   "id": "20171dcb-3e75-4ce2-a94d-0752648bcc05",
   "metadata": {},
   "outputs": [],
   "source": []
  }
 ],
 "metadata": {
  "kernelspec": {
   "display_name": "Python 3 (ipykernel)",
   "language": "python",
   "name": "python3"
  },
  "language_info": {
   "codemirror_mode": {
    "name": "ipython",
    "version": 3
   },
   "file_extension": ".py",
   "mimetype": "text/x-python",
   "name": "python",
   "nbconvert_exporter": "python",
   "pygments_lexer": "ipython3",
   "version": "3.10.8"
  }
 },
 "nbformat": 4,
 "nbformat_minor": 5
}
